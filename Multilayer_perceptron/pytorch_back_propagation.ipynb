{
 "cells": [
  {
   "cell_type": "code",
   "execution_count": 3,
   "metadata": {},
   "outputs": [],
   "source": [
    "import torch "
   ]
  },
  {
   "cell_type": "code",
   "execution_count": null,
   "metadata": {},
   "outputs": [],
   "source": []
  },
  {
   "cell_type": "markdown",
   "metadata": {},
   "source": [
    "- tensors  are the n-diamensional arrays of scalers.\n",
    "- In default gradient in leafs nodes = False, that why we used x1.required_grad = True"
   ]
  },
  {
   "cell_type": "code",
   "execution_count": 39,
   "metadata": {},
   "outputs": [
    {
     "name": "stdout",
     "output_type": "stream",
     "text": [
      "0.7071066904050358\n",
      "----------------\n",
      "x1 -1.5000003851533106\n",
      "x2 0.5000001283844369\n",
      "w1 1.0000002567688737\n",
      "w2 0.0\n",
      "b 0.5000001283844369\n"
     ]
    }
   ],
   "source": [
    "x1 = torch.tensor([2.0]).double()                   ;x1.requires_grad = True# convert into double precision \n",
    "x2 = torch.tensor([0.0]).double()                   ;x2.requires_grad = True\n",
    "w1 = torch.tensor([-3.0]).double()                  ;w1.requires_grad = True\n",
    "w2 = torch.tensor([1.0]).double()                   ;w2.requires_grad = True\n",
    "b  = torch.tensor([6.8813735870195432]).double()    ;b.requires_grad = True\n",
    "\n",
    "n = x1*w1 + x2*w2 + b \n",
    "o = torch.tanh(n) \n",
    "\n",
    "\n",
    "print(o.data.item())\n",
    "o.backward()\n",
    "\n",
    "print(\"----------------\")\n",
    "print(\"x1\",x1.grad.item())\n",
    "print(\"x2\",x2.grad.item())\n",
    "print(\"w1\",w1.grad.item())\n",
    "print(\"w2\",w2.grad.item())\n",
    "print(\"b\",b.grad.item())"
   ]
  },
  {
   "cell_type": "code",
   "execution_count": null,
   "metadata": {},
   "outputs": [],
   "source": []
  }
 ],
 "metadata": {
  "kernelspec": {
   "display_name": "Python 3 (ipykernel)",
   "language": "python",
   "name": "python3"
  },
  "language_info": {
   "codemirror_mode": {
    "name": "ipython",
    "version": 3
   },
   "file_extension": ".py",
   "mimetype": "text/x-python",
   "name": "python",
   "nbconvert_exporter": "python",
   "pygments_lexer": "ipython3",
   "version": "3.11.5"
  }
 },
 "nbformat": 4,
 "nbformat_minor": 2
}
