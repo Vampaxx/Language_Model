{
 "cells": [
  {
   "cell_type": "code",
   "execution_count": 1,
   "metadata": {},
   "outputs": [],
   "source": [
    "import os "
   ]
  },
  {
   "cell_type": "code",
   "execution_count": 2,
   "metadata": {},
   "outputs": [],
   "source": [
    "data = \"datas\\\\names.txt\" \n",
    "data_path = os.path.join(os.getcwd(),data)"
   ]
  },
  {
   "cell_type": "code",
   "execution_count": 3,
   "metadata": {},
   "outputs": [
    {
     "data": {
      "text/plain": [
       "list"
      ]
     },
     "execution_count": 3,
     "metadata": {},
     "output_type": "execute_result"
    }
   ],
   "source": [
    "text_data = open(data_path,\"r\").read().splitlines()\n",
    "type(text_data)"
   ]
  },
  {
   "cell_type": "code",
   "execution_count": 4,
   "metadata": {},
   "outputs": [],
   "source": [
    "chars   = sorted(list(set(\"\".join(text_data))))\n",
    "stoi    = {s:i+1 for i,s in enumerate(chars)} \n",
    "stoi[\".\"] = 0\n",
    "itos    = {s:i for i,s in sorted((stoi.items()))}"
   ]
  },
  {
   "cell_type": "code",
   "execution_count": 5,
   "metadata": {},
   "outputs": [],
   "source": [
    "import torch\n",
    "import random\n",
    "import torch.nn.functional as F\n",
    "import matplotlib.pyplot as plt "
   ]
  },
  {
   "cell_type": "markdown",
   "metadata": {},
   "source": [
    "## Build dataset"
   ]
  },
  {
   "cell_type": "code",
   "execution_count": 6,
   "metadata": {},
   "outputs": [
    {
     "name": "stdout",
     "output_type": "stream",
     "text": [
      "torch.Size([182625, 3]) torch.Size([182625])\n",
      "torch.Size([22655, 3]) torch.Size([22655])\n",
      "torch.Size([22866, 3]) torch.Size([22866])\n"
     ]
    }
   ],
   "source": [
    "def build_dataset(dataset:list=None,block_size:int=3):\n",
    "\n",
    "    X,Y = [],[]\n",
    "    for word in dataset:\n",
    "\n",
    "        context = [0] * block_size\n",
    "        for char in word +\".\":\n",
    "            idx = stoi[char]\n",
    "            X.append(context)\n",
    "            Y.append(idx)\n",
    "            context = context[1:] + [idx] # crop and append\n",
    "    \n",
    "    X = torch.tensor(X,device=\"cuda\")\n",
    "    Y = torch.tensor(Y,device=\"cuda\") \n",
    "    print(X.shape,Y.shape)\n",
    "    return X,Y\n",
    "\n",
    "\n",
    "random.seed(42)\n",
    "random.shuffle(text_data,random=random.seed(42))\n",
    "n1 = int(0.8 * len(text_data))\n",
    "n2 = int(0.9 * len(text_data))\n",
    "\n",
    "x_train,y_train = build_dataset(text_data[:n1])\n",
    "x_val,y_val     = build_dataset(text_data[n1:n2])\n",
    "x_test,y_test   = build_dataset(text_data[n2:]) \n"
   ]
  },
  {
   "cell_type": "markdown",
   "metadata": {},
   "source": [
    "## Neural Network"
   ]
  },
  {
   "cell_type": "code",
   "execution_count": 78,
   "metadata": {},
   "outputs": [
    {
     "name": "stdout",
     "output_type": "stream",
     "text": [
      "total numbers of parameters :   11897\n"
     ]
    }
   ],
   "source": [
    "n_embd      = 10\n",
    "n_hidden    = 200\n",
    "block_size  = 3\n",
    "vocab_size  = len(itos)\n",
    "\n",
    "\n",
    "## initialize the parameters \n",
    "g           = torch.Generator(device=\"cuda:0\").manual_seed(2147483647)## for same producability \n",
    "C           = torch.randn((vocab_size,n_embd),                          generator=g,device=\"cuda:0\")\n",
    "w1          = torch.randn((n_embd * block_size,n_hidden),               generator=g,device=\"cuda:0\")\n",
    "b1          = torch.randn((n_hidden,),                                  generator=g,device=\"cuda:0\")\n",
    "w2          = torch.randn((n_hidden,vocab_size),                        generator=g,device=\"cuda:0\")\n",
    "b2          = torch.randn((vocab_size,),                                generator=g,device=\"cuda:0\") \n",
    "\n",
    "parameters = [C,w1,b1,w2,b2]\n",
    "print(f\"total numbers of parameters :   {sum(para.nelement() for para in parameters)}\")\n",
    "for para in parameters:\n",
    "    para.requires_grad = True"
   ]
  },
  {
   "cell_type": "code",
   "execution_count": 8,
   "metadata": {},
   "outputs": [
    {
     "name": "stdout",
     "output_type": "stream",
     "text": [
      "      0/ 200000 :   28.5865\n",
      "  25000/ 200000 :   2.6399\n",
      "  50000/ 200000 :   2.8675\n",
      "  75000/ 200000 :   1.9557\n",
      " 100000/ 200000 :   2.1587\n",
      " 125000/ 200000 :   2.7489\n",
      " 150000/ 200000 :   2.3592\n",
      " 175000/ 200000 :   2.4629\n"
     ]
    }
   ],
   "source": [
    "n_iter      = 200000\n",
    "batch_size  = 32\n",
    "loss_i      = []\n",
    "\n",
    "for i in range(n_iter):\n",
    "    ix              = torch.randint(0,x_train.shape[0],(batch_size,),generator=g,device=\"cuda:0\") # 32 numbers between 0 to 182437==>> shape (32,)\n",
    "    x_batch,y_batch = x_train[ix],y_train[ix] \n",
    "\n",
    "    # forward pass \n",
    "    emb         = C[x_batch]                # (32,3,10)\n",
    "    emb         = emb.view(emb.shape[0],-1) # (32,30)\n",
    "    h_preact    = emb @ w1 + b1             # (32,200)\n",
    "    h_act       = torch.tanh(h_preact)      # (32,200)\n",
    "\n",
    "    logits      = h_act @ w2 + b2           # (32,27)\n",
    "    loss        = F.cross_entropy(logits,y_batch) \n",
    "    #backward pass\n",
    "    for para in parameters:\n",
    "        para.grad = None\n",
    "    loss.backward()\n",
    "    \n",
    "    lr = 0.1 if n_iter < 100000 else 0.01 # step learning rate decay \n",
    "    for para in parameters:\n",
    "        para.data += -lr * para.grad\n",
    "    \n",
    "    # track loss \n",
    "    if i % 25000 == 0:\n",
    "        print(f\"{i:7d}/{n_iter:7d} :   {loss.item():.4f}\")\n",
    "    loss_i.append(loss.item())"
   ]
  },
  {
   "cell_type": "code",
   "execution_count": 9,
   "metadata": {},
   "outputs": [
    {
     "data": {
      "image/png": "[encoded data removed]",
      "text/plain": [
       "<Figure size 640x480 with 1 Axes>"
      ]
     },
     "metadata": {},
     "output_type": "display_data"
    }
   ],
   "source": [
    "plt.plot((torch.tensor(loss_i).log10()))\n",
    "plt.ylabel(\"loss.log10()\")\n",
    "plt.xlabel(\"iterations\")\n",
    "plt.show()"
   ]
  },
  {
   "cell_type": "code",
   "execution_count": 10,
   "metadata": {},
   "outputs": [
    {
     "data": {
      "image/png": "[encoded data removed]",
      "text/plain": [
       "<Figure size 640x480 with 1 Axes>"
      ]
     },
     "metadata": {},
     "output_type": "display_data"
    }
   ],
   "source": [
    "plt.plot(loss_i)\n",
    "plt.ylabel(\"loss\")\n",
    "plt.xlabel(\"iterations\")\n",
    "plt.show()"
   ]
  },
  {
   "cell_type": "code",
   "execution_count": 11,
   "metadata": {},
   "outputs": [
    {
     "name": "stdout",
     "output_type": "stream",
     "text": [
      "train 2.2782018184661865\n",
      "val 2.2917091846466064\n"
     ]
    }
   ],
   "source": [
    "@torch.no_grad()       # this decorator disable gradient tracking, (no need to calulate during evaluation)\n",
    "def split_loss(split):\n",
    "    x,y = {\n",
    "        \"train\" : (x_train,y_train),\n",
    "        \"val\"   : (x_val,y_val),\n",
    "        \"test\"  : (x_test,y_test)\n",
    "    }[split]\n",
    "    emb         = C[x]\n",
    "    emb         = emb.view(emb.shape[0],-1) # (number_of_dataset, block_size * n_emb) (N, 3 * 10)\n",
    "    h_preact    = emb @ w1 + b1             # (N,200)\n",
    "    h_act       = torch.tanh(h_preact)      # (N,200)\n",
    "\n",
    "    logits      = h_act @ w2 + b2           # (N,27)\n",
    "    loss        = F.cross_entropy(logits,y) \n",
    "    print(split,loss.item())\n",
    "\n",
    "split_loss(\"train\")\n",
    "split_loss(\"val\")\n"
   ]
  },
  {
   "cell_type": "code",
   "execution_count": 12,
   "metadata": {},
   "outputs": [
    {
     "name": "stdout",
     "output_type": "stream",
     "text": [
      "brextsn.\n",
      "ezrinde.\n",
      "relijahy.\n",
      "rersheybelidzyonurah.\n",
      "emi.\n",
      "chya.\n",
      "padgedey.\n",
      "ton.\n",
      "dhethi.\n",
      "kelloni.\n",
      "adstttett.\n",
      "kede.\n",
      "chanavi.\n",
      "hrann.\n",
      "juilana.\n",
      "dorgh.\n",
      "driel.\n",
      "thah.\n",
      "khoris.\n",
      "adestergper.\n",
      "nice.\n",
      "mzem.\n",
      "gie.\n",
      "reighane.\n",
      "shaann.\n"
     ]
    }
   ],
   "source": [
    "g = torch.Generator(device=\"cuda\").manual_seed(2147483647 + 10)\n",
    "\n",
    "for _ in range(25):\n",
    "\n",
    "    out     = []\n",
    "    context = [0] * block_size \n",
    "    while True:\n",
    "      emb     = C[torch.tensor([context])] \n",
    "      h       = torch.tanh(emb.view(1, -1) @ w1 + b1)\n",
    "      logits  = h @ w2 + b2\n",
    "      probs   = F.softmax(logits, dim=1)\n",
    "      ix      = torch.multinomial(probs, num_samples=1, generator=g).item()\n",
    "      context = context[1:] + [ix]\n",
    "      out.append(ix)\n",
    "      if ix == 0:\n",
    "        break\n",
    "    print(''.join(itos[i] for i in out))\n",
    "    "
   ]
  },
  {
   "cell_type": "markdown",
   "metadata": {},
   "source": [
    "## Fixing the initial loss \n",
    "\n",
    "The loss we get after model training.\n",
    "- 0/ 200000 :   28.5865\n",
    "- 25000/ 200000 :   2.6399\n",
    "- 50000/ 200000 :   2.8675\n",
    "- 75000/ 200000 :   1.9557\n",
    "- 100000/ 200000 :   2.1587\n",
    "- 125000/ 200000 :   2.7489\n",
    "- 150000/ 200000 :   2.3592\n",
    "- 175000/ 200000 :   2.4629\n",
    "\n",
    "We can say that model is improperly configured at initialization. ie, from 1st iteration loss we get is around 28 and rapidly comes out around 1 to 2. Have multiple problems in initialization of model. \n",
    "\n",
    "1. Messed up Initialization :    Always have an rough idea for what loss to expect at inialization. At initialization what we have do that probability of each character (number of classes),(27 characters) consider as equal distribution. At initialization we have no reason to believe any characters have more likely than other character. So we expect probability distribution that comes out to be equal/uniform distribution.\n",
    "\n",
    "    - Probability for any character = (1/27)        = 0.03703\n",
    "    - Loss                          = -(prob.log()) = 3.2958<br>\n",
    "- The loss we get by uniform distribution is much lower than what we get from initial initialization. \n",
    "- Initialize the parameters roughly zeros,logits do't have to be zeros they just have to be equal. \n",
    "    "
   ]
  },
  {
   "cell_type": "code",
   "execution_count": 32,
   "metadata": {},
   "outputs": [
    {
     "data": {
      "text/plain": [
       "(tensor([0.1000, 0.1000, 0.1000, 0.1000]),\n",
       " tensor([0.2500, 0.2500, 0.2500, 0.2500]),\n",
       " tensor(1.3863))"
      ]
     },
     "execution_count": 32,
     "metadata": {},
     "output_type": "execute_result"
    }
   ],
   "source": [
    "## rough output from sample model, \n",
    "logits  = torch.tensor([0.1,0.1,0.1,0.1]) \n",
    "                                            # probs =  logits / logits.sum()  ======= alternate method of softmax. \n",
    "probs   = F.softmax(logits,dim=0)           # we got uniform distribution 0.25 for all data points. \n",
    "loss    = -probs[2].log()                   # \n",
    "logits,probs,loss\n"
   ]
  },
  {
   "cell_type": "code",
   "execution_count": 42,
   "metadata": {},
   "outputs": [
    {
     "data": {
      "text/plain": [
       "(tensor([0.1000, 0.5600, 0.1000, 0.1000]),\n",
       " tensor([0.2181, 0.3456, 0.2181, 0.2181]),\n",
       " tensor(1.0626))"
      ]
     },
     "execution_count": 42,
     "metadata": {},
     "output_type": "execute_result"
    }
   ],
   "source": [
    "## rough output from sample model, \n",
    "logits  = torch.tensor([0.1,0.56,0.1,0.1]) \n",
    "                                            # probs =  logits / logits.sum()  ======= alternate method of softmax. \n",
    "probs   = F.softmax(logits,dim=0)           # we got uniform distribution 0.25 for all data points. \n",
    "loss    = -probs[1].log()                   # \n",
    "logits,probs,loss\n",
    "\n",
    "\n",
    "# in this case for, getting 0.56 element from dataset and it's probability is 0.3465.actually 34.56%"
   ]
  },
  {
   "cell_type": "code",
   "execution_count": 79,
   "metadata": {},
   "outputs": [
    {
     "name": "stdout",
     "output_type": "stream",
     "text": [
      "      0/ 200000 :   28.5865\n"
     ]
    }
   ],
   "source": [
    "n_iter      = 200000\n",
    "batch_size  = 32\n",
    "loss_i      = []\n",
    "\n",
    "for i in range(n_iter):\n",
    "    ix              = torch.randint(0,x_train.shape[0],(batch_size,),generator=g,device=\"cuda:0\") # 32 numbers between 0 to 182437==>> shape (32,)\n",
    "    x_batch,y_batch = x_train[ix],y_train[ix] \n",
    "\n",
    "    # forward pass \n",
    "    emb         = C[x_batch]                # (32,3,10)\n",
    "    emb         = emb.view(emb.shape[0],-1) # (32,30)\n",
    "    h_preact    = emb @ w1 + b1             # (32,200)\n",
    "    h_act       = torch.tanh(h_preact)      # (32,200)\n",
    "\n",
    "    logits      = h_act @ w2 + b2           # (32,27)\n",
    "    loss        = F.cross_entropy(logits,y_batch) \n",
    "    #backward pass\n",
    "    for para in parameters:\n",
    "        para.grad = None\n",
    "    loss.backward()\n",
    "    \n",
    "    lr = 0.1 if n_iter < 100000 else 0.01 # step learning rate decay \n",
    "    for para in parameters:\n",
    "        para.data += -lr * para.grad\n",
    "    \n",
    "    # track loss \n",
    "    if i % 25000 == 0:\n",
    "        print(f\"{i:7d}/{n_iter:7d} :   {loss.item():.4f}\")\n",
    "    loss_i.append(loss.item())\n",
    "    break"
   ]
  },
  {
   "cell_type": "code",
   "execution_count": 82,
   "metadata": {},
   "outputs": [
    {
     "data": {
      "text/plain": [
       "28.58652114868164"
      ]
     },
     "execution_count": 82,
     "metadata": {},
     "output_type": "execute_result"
    }
   ],
   "source": [
    "loss.item()"
   ]
  },
  {
   "cell_type": "code",
   "execution_count": 95,
   "metadata": {},
   "outputs": [
    {
     "data": {
      "text/plain": [
       "(array([1., 0., 0., 0., 0., 0., 0., 1., 0., 0., 0., 1., 2., 0., 1., 0., 1.,\n",
       "        0., 0., 0., 1., 5., 2., 2., 0., 1., 0., 0., 1., 1., 1., 0., 1., 0.,\n",
       "        1., 1., 0., 0., 1., 0., 0., 0., 0., 0., 0., 0., 0., 0., 1., 1.]),\n",
       " array([-2.69724522e+01, -2.57462234e+01, -2.45199966e+01, -2.32937679e+01,\n",
       "        -2.20675411e+01, -2.08413124e+01, -1.96150856e+01, -1.83888569e+01,\n",
       "        -1.71626301e+01, -1.59364014e+01, -1.47101736e+01, -1.34839458e+01,\n",
       "        -1.22577181e+01, -1.10314903e+01, -9.80526257e+00, -8.57903481e+00,\n",
       "        -7.35280657e+00, -6.12657881e+00, -4.90035105e+00, -3.67412329e+00,\n",
       "        -2.44789553e+00, -1.22166765e+00,  4.56024148e-03,  1.23078811e+00,\n",
       "         2.45701599e+00,  3.68324375e+00,  4.90947151e+00,  6.13569927e+00,\n",
       "         7.36192703e+00,  8.58815479e+00,  9.81438255e+00,  1.10406103e+01,\n",
       "         1.22668390e+01,  1.34930668e+01,  1.47192945e+01,  1.59455223e+01,\n",
       "         1.71717491e+01,  1.83979778e+01,  1.96242065e+01,  2.08504333e+01,\n",
       "         2.20766621e+01,  2.33028889e+01,  2.45291176e+01,  2.57553444e+01,\n",
       "         2.69815731e+01,  2.82077999e+01,  2.94340286e+01,  3.06602554e+01,\n",
       "         3.18864841e+01,  3.31127129e+01,  3.43389397e+01]),\n",
       " <BarContainer object of 50 artists>)"
      ]
     },
     "execution_count": 95,
     "metadata": {},
     "output_type": "execute_result"
    },
    {
     "data": {
      "image/png": "[encoded data removed]",
      "text/plain": [
       "<Figure size 640x480 with 1 Axes>"
      ]
     },
     "metadata": {},
     "output_type": "display_data"
    }
   ],
   "source": [
    "plt.hist(logits[0].cpu().detach(),bins=50)"
   ]
  },
  {
   "cell_type": "code",
   "execution_count": 98,
   "metadata": {},
   "outputs": [
    {
     "data": {
      "text/plain": [
       "(tensor([0.6500, 0.5600, 0.1000, 0.7500]),\n",
       " tensor([0.2781, 0.2541, 0.1604, 0.3073]),\n",
       " tensor([1.2798, 1.3698, 1.8298, 1.1798]))"
      ]
     },
     "execution_count": 98,
     "metadata": {},
     "output_type": "execute_result"
    },
    {
     "ename": "",
     "evalue": "",
     "output_type": "error",
     "traceback": [
      "\u001b[1;31mThe Kernel crashed while executing code in the current cell or a previous cell. \n",
      "\u001b[1;31mPlease review the code in the cell(s) to identify a possible cause of the failure. \n",
      "\u001b[1;31mClick <a href='https://aka.ms/vscodeJupyterKernelCrash'>here</a> for more info. \n",
      "\u001b[1;31mView Jupyter <a href='command:jupyter.viewOutput'>log</a> for further details."
     ]
    }
   ],
   "source": [
    "logits  = torch.tensor([0.65,0.56,0.1,0.75]) \n",
    "probs   = F.softmax(logits,dim=0)          \n",
    "loss    = -probs.log()                  \n",
    "logits,probs,loss"
   ]
  },
  {
   "cell_type": "code",
   "execution_count": null,
   "metadata": {},
   "outputs": [],
   "source": []
  },
  {
   "cell_type": "code",
   "execution_count": null,
   "metadata": {},
   "outputs": [],
   "source": []
  },
  {
   "cell_type": "code",
   "execution_count": null,
   "metadata": {},
   "outputs": [],
   "source": []
  },
  {
   "cell_type": "code",
   "execution_count": null,
   "metadata": {},
   "outputs": [],
   "source": []
  }
 ],
 "metadata": {
  "kernelspec": {
   "display_name": "llm_env",
   "language": "python",
   "name": "python3"
  },
  "language_info": {
   "codemirror_mode": {
    "name": "ipython",
    "version": 3
   },
   "file_extension": ".py",
   "mimetype": "text/x-python",
   "name": "python",
   "nbconvert_exporter": "python",
   "pygments_lexer": "ipython3",
   "version": "3.9.19"
  }
 },
 "nbformat": 4,
 "nbformat_minor": 2
}
