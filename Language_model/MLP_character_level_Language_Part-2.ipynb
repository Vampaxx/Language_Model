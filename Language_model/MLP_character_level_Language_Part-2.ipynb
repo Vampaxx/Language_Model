{
 "cells": [
  {
   "cell_type": "code",
   "execution_count": 1,
   "metadata": {},
   "outputs": [],
   "source": [
    "import os "
   ]
  },
  {
   "cell_type": "code",
   "execution_count": 2,
   "metadata": {},
   "outputs": [],
   "source": [
    "data = \"datas\\\\names.txt\" \n",
    "data_path = os.path.join(os.getcwd(),data)"
   ]
  },
  {
   "cell_type": "code",
   "execution_count": 3,
   "metadata": {},
   "outputs": [
    {
     "data": {
      "text/plain": [
       "list"
      ]
     },
     "execution_count": 3,
     "metadata": {},
     "output_type": "execute_result"
    }
   ],
   "source": [
    "text_data = open(data_path,\"r\").read().splitlines()\n",
    "type(text_data)"
   ]
  },
  {
   "cell_type": "code",
   "execution_count": 4,
   "metadata": {},
   "outputs": [],
   "source": [
    "chars   = sorted(list(set(\"\".join(text_data))))\n",
    "stoi    = {s:i+1 for i,s in enumerate(chars)} \n",
    "stoi[\".\"] = 0\n",
    "itos    = {s:i for i,s in sorted((stoi.items()))}"
   ]
  },
  {
   "cell_type": "code",
   "execution_count": 5,
   "metadata": {},
   "outputs": [],
   "source": [
    "import torch\n",
    "import random\n",
    "import torch.nn.functional as F\n",
    "import matplotlib.pyplot as plt "
   ]
  },
  {
   "cell_type": "markdown",
   "metadata": {},
   "source": [
    "## Build dataset"
   ]
  },
  {
   "cell_type": "code",
   "execution_count": 6,
   "metadata": {},
   "outputs": [
    {
     "name": "stdout",
     "output_type": "stream",
     "text": [
      "torch.Size([182625, 3]) torch.Size([182625])\n",
      "torch.Size([22655, 3]) torch.Size([22655])\n",
      "torch.Size([22866, 3]) torch.Size([22866])\n"
     ]
    }
   ],
   "source": [
    "def build_dataset(dataset:list=None,block_size:int=3):\n",
    "\n",
    "    X,Y = [],[]\n",
    "    for word in dataset:\n",
    "\n",
    "        context = [0] * block_size\n",
    "        for char in word +\".\":\n",
    "            idx = stoi[char]\n",
    "            X.append(context)\n",
    "            Y.append(idx)\n",
    "            context = context[1:] + [idx] # crop and append\n",
    "    \n",
    "    X = torch.tensor(X,device=\"cuda\")\n",
    "    Y = torch.tensor(Y,device=\"cuda\") \n",
    "    print(X.shape,Y.shape)\n",
    "    return X,Y\n",
    "\n",
    "\n",
    "random.seed(42)\n",
    "random.shuffle(text_data,random=random.seed(42))\n",
    "n1 = int(0.8 * len(text_data))\n",
    "n2 = int(0.9 * len(text_data))\n",
    "\n",
    "x_train,y_train = build_dataset(text_data[:n1])\n",
    "x_val,y_val     = build_dataset(text_data[n1:n2])\n",
    "x_test,y_test   = build_dataset(text_data[n2:]) \n"
   ]
  },
  {
   "cell_type": "markdown",
   "metadata": {},
   "source": [
    "## Neural Network"
   ]
  },
  {
   "cell_type": "code",
   "execution_count": 7,
   "metadata": {},
   "outputs": [
    {
     "name": "stdout",
     "output_type": "stream",
     "text": [
      "total numbers of parameters :   11897\n"
     ]
    }
   ],
   "source": [
    "n_embd      = 10\n",
    "n_hidden    = 200\n",
    "block_size  = 3\n",
    "vocab_size  = len(itos)\n",
    "\n",
    "\n",
    "## initialize the parameters \n",
    "g           = torch.Generator(device=\"cuda:0\").manual_seed(2147483647)## for same producability \n",
    "C           = torch.randn((vocab_size,n_embd),                          generator=g,device=\"cuda:0\")\n",
    "w1          = torch.randn((n_embd * block_size,n_hidden),               generator=g,device=\"cuda:0\")\n",
    "b1          = torch.randn((n_hidden,),                                  generator=g,device=\"cuda:0\")\n",
    "w2          = torch.randn((n_hidden,vocab_size),                        generator=g,device=\"cuda:0\")\n",
    "b2          = torch.randn((vocab_size,),                                generator=g,device=\"cuda:0\") \n",
    "\n",
    "parameters = [C,w1,b1,w2,b2]\n",
    "print(f\"total numbers of parameters :   {sum(para.nelement() for para in parameters)}\")\n",
    "for para in parameters:\n",
    "    para.requires_grad = True"
   ]
  },
  {
   "cell_type": "code",
   "execution_count": null,
   "metadata": {},
   "outputs": [],
   "source": []
  },
  {
   "cell_type": "code",
   "execution_count": null,
   "metadata": {},
   "outputs": [
    {
     "name": "stdout",
     "output_type": "stream",
     "text": [
      "      0/ 100000 :   28.5865\n",
      "  10000/ 100000 :   4.2312\n",
      "  20000/ 100000 :   2.4480\n",
      "  30000/ 100000 :   2.8876\n",
      "  40000/ 100000 :   2.5231\n",
      "  50000/ 100000 :   2.8675\n",
      "  60000/ 100000 :   2.5860\n",
      "  70000/ 100000 :   2.2914\n",
      "  80000/ 100000 :   2.4212\n",
      "  90000/ 100000 :   2.0905\n"
     ]
    }
   ],
   "source": [
    "n_iter      = 100000\n",
    "batch_size  = 32\n",
    "loss_i      = []\n",
    "\n",
    "for i in range(n_iter):\n",
    "    ix              = torch.randint(0,x_train.shape[0],(batch_size,),generator=g,device=\"cuda:0\") # 32 numbers between 0 to 182437==>> shape (32,)\n",
    "    x_batch,y_batch = x_train[ix],y_train[ix] \n",
    "\n",
    "    # forward pass \n",
    "    emb         = C[x_batch]                # (32,3,10)\n",
    "    emb         = emb.view(emb.shape[0],-1) # (32,30)\n",
    "    h_preact    = emb @ w1 + b1             # (32,200)\n",
    "    h_act       = torch.tanh(h_preact)      # (32,200)\n",
    "\n",
    "    logits      = h_act @ w2 + b2           # (32,27)\n",
    "    loss        = F.cross_entropy(logits,y_batch) \n",
    "    #backward pass\n",
    "    for para in parameters:\n",
    "        para.grad = None\n",
    "    loss.backward()\n",
    "    \n",
    "    lr = 0.1 if n_iter < 75000 else 0.01 # step learning rate decay \n",
    "    for para in parameters:\n",
    "        para.data += -lr * para.grad\n",
    "    \n",
    "    # track loss \n",
    "    if i % 10000 == 0:\n",
    "        print(f\"{i:7d}/{n_iter:7d} :   {loss.item():.4f}\")\n",
    "    loss_i.append(loss.item())\n",
    "    "
   ]
  },
  {
   "cell_type": "code",
   "execution_count": null,
   "metadata": {},
   "outputs": [
    {
     "data": {
      "image/png": "[encoded data removed]",
      "text/plain": [
       "<Figure size 640x480 with 1 Axes>"
      ]
     },
     "metadata": {},
     "output_type": "display_data"
    }
   ],
   "source": [
    "plt.plot((torch.tensor(loss_i).log10()))\n",
    "plt.ylabel(\"loss.log10()\")\n",
    "plt.xlabel(\"iterations\")\n",
    "plt.show()"
   ]
  },
  {
   "cell_type": "code",
   "execution_count": null,
   "metadata": {},
   "outputs": [
    {
     "data": {
      "image/png": "[encoded data removed]",
      "text/plain": [
       "<Figure size 640x480 with 1 Axes>"
      ]
     },
     "metadata": {},
     "output_type": "display_data"
    }
   ],
   "source": [
    "plt.plot(loss_i)\n",
    "plt.ylabel(\"loss\")\n",
    "plt.xlabel(\"iterations\")\n",
    "plt.show()"
   ]
  },
  {
   "cell_type": "code",
   "execution_count": null,
   "metadata": {},
   "outputs": [
    {
     "name": "stdout",
     "output_type": "stream",
     "text": [
      "train 2.31186842918396\n",
      "val 2.323866844177246\n"
     ]
    }
   ],
   "source": [
    "@torch.no_grad()       # this decorator disable gradient tracking, (no need to calulate during evaluation)\n",
    "def split_loss(split):\n",
    "    x,y = {\n",
    "        \"train\" : (x_train,y_train),\n",
    "        \"val\"   : (x_val,y_val),\n",
    "        \"test\"  : (x_test,y_test)\n",
    "    }[split]\n",
    "    emb         = C[x]\n",
    "    emb         = emb.view(emb.shape[0],-1) # (number_of_dataset, block_size * n_emb) (N, 3 * 10)\n",
    "    h_preact    = emb @ w1 + b1             # (N,200)\n",
    "    h_act       = torch.tanh(h_preact)      # (N,200)\n",
    "\n",
    "    logits      = h_act @ w2 + b2           # (N,27)\n",
    "    loss        = F.cross_entropy(logits,y) \n",
    "    print(split,loss.item())\n",
    "\n",
    "split_loss(\"train\")\n",
    "split_loss(\"val\")\n"
   ]
  },
  {
   "cell_type": "code",
   "execution_count": null,
   "metadata": {},
   "outputs": [
    {
     "name": "stdout",
     "output_type": "stream",
     "text": [
      "bike.\n",
      "sah.\n",
      "zem.\n",
      "deiryn.\n",
      "jann.\n",
      "rersheybelidzyomurah.\n",
      "emi.\n",
      "rayan.\n",
      "adgedey.\n",
      "quif.\n",
      "mer.\n",
      "tarelonni.\n",
      "arstttely.\n",
      "kedeendy.\n",
      "marah.\n",
      "aan.\n",
      "juilana.\n",
      "doria.\n",
      "dareigh.\n",
      "mabkelliso.\n",
      "dertericbe.\n",
      "nico.\n",
      "mzam.\n",
      "gie.\n",
      "reigha.\n"
     ]
    }
   ],
   "source": [
    "g = torch.Generator(device=\"cuda\").manual_seed(2147483647 + 10)\n",
    "\n",
    "for _ in range(25):\n",
    "\n",
    "    out     = []\n",
    "    context = [0] * block_size \n",
    "    while True:\n",
    "      emb     = C[torch.tensor([context])] \n",
    "      h       = torch.tanh(emb.view(1, -1) @ w1 + b1)\n",
    "      logits  = h @ w2 + b2\n",
    "      probs   = F.softmax(logits, dim=1)\n",
    "      ix      = torch.multinomial(probs, num_samples=1, generator=g).item()\n",
    "      context = context[1:] + [ix]\n",
    "      out.append(ix)\n",
    "      if ix == 0:\n",
    "        break\n",
    "    print(''.join(itos[i] for i in out))\n",
    "    "
   ]
  },
  {
   "cell_type": "markdown",
   "metadata": {},
   "source": [
    "## Fixing the initial loss \n",
    "\n",
    "The loss we get after model training.\n",
    "- 0/ 200000 :   28.5865\n",
    "- 25000/ 200000 :   2.6399\n",
    "- 50000/ 200000 :   2.8675\n",
    "- 75000/ 200000 :   1.9557\n",
    "- 100000/ 200000 :   2.1587\n",
    "- 125000/ 200000 :   2.7489\n",
    "- 150000/ 200000 :   2.3592\n",
    "- 175000/ 200000 :   2.4629\n",
    "\n",
    "We can say that model is improperly configured at initialization. ie, from 1st iteration loss we get is around 28 and rapidly comes out around 1 to 2. Have multiple problems in initialization of model. \n",
    "\n",
    "1. Messed up Initialization :    Always have an rough idea for what loss to expect at inialization. At initialization what we have do that probability of each character (number of classes),(27 characters) consider as equal distribution. At initialization we have no reason to believe any characters have more likely than other character. So we expect probability distribution that comes out to be equal/uniform distribution.\n",
    "\n",
    "    - Probability for any character = (1/27)        = 0.03703\n",
    "    - Loss                          = -(prob.log()) = 3.2958<br>\n",
    "- The loss we get by uniform distribution is much lower than what we get from initial initialization. \n",
    "- Initialize the parameters roughly zeros,logits do't have to be zeros they just have to be equal. \n",
    "    "
   ]
  },
  {
   "cell_type": "code",
   "execution_count": null,
   "metadata": {},
   "outputs": [
    {
     "data": {
      "text/plain": [
       "(tensor([0.1000, 0.1000, 0.1000, 0.1000]),\n",
       " tensor([0.2500, 0.2500, 0.2500, 0.2500]),\n",
       " tensor(1.3863))"
      ]
     },
     "execution_count": 13,
     "metadata": {},
     "output_type": "execute_result"
    }
   ],
   "source": [
    "## rough output from sample model, \n",
    "logits  = torch.tensor([0.1,0.1,0.1,0.1]) \n",
    "                                            # probs =  logits / logits.sum()  ======= alternate method of softmax. \n",
    "probs   = F.softmax(logits,dim=0)           # we got uniform distribution 0.25 for all data points. \n",
    "loss    = -probs[2].log()                   # \n",
    "logits,probs,loss\n"
   ]
  },
  {
   "cell_type": "code",
   "execution_count": null,
   "metadata": {},
   "outputs": [
    {
     "data": {
      "text/plain": [
       "(tensor([0.1000, 0.5600, 0.1000, 0.1000]),\n",
       " tensor([0.2181, 0.3456, 0.2181, 0.2181]),\n",
       " tensor(1.0626))"
      ]
     },
     "execution_count": 14,
     "metadata": {},
     "output_type": "execute_result"
    }
   ],
   "source": [
    "## rough output from sample model, \n",
    "logits  = torch.tensor([0.1,0.56,0.1,0.1]) \n",
    "                                            # probs =  logits / logits.sum()  ======= alternate method of softmax. \n",
    "probs   = F.softmax(logits,dim=0)           # we got uniform distribution 0.25 for all data points. \n",
    "loss    = -probs[1].log()                   # \n",
    "logits,probs,loss\n",
    "\n",
    "\n",
    "# in this case for, getting 0.56 element from dataset and it's probability is 0.3465.actually 34.56%"
   ]
  },
  {
   "cell_type": "markdown",
   "metadata": {},
   "source": [
    "## Nudge the parameters"
   ]
  },
  {
   "cell_type": "code",
   "execution_count": null,
   "metadata": {},
   "outputs": [
    {
     "name": "stdout",
     "output_type": "stream",
     "text": [
      "total numbers of parameters :   11897\n"
     ]
    }
   ],
   "source": [
    "n_embd      = 10\n",
    "n_hidden    = 200\n",
    "block_size  = 3\n",
    "vocab_size  = len(itos)\n",
    "\n",
    "\n",
    "## initialize the parameters \n",
    "g           = torch.Generator(device=\"cuda:0\").manual_seed(2147483647)## for same producability \n",
    "C           = torch.randn((vocab_size,n_embd),                          generator=g,device=\"cuda:0\")\n",
    "w1          = torch.randn((n_embd * block_size,n_hidden),               generator=g,device=\"cuda:0\")\n",
    "b1          = torch.randn((n_hidden,),                                  generator=g,device=\"cuda:0\") \n",
    "w2          = torch.randn((n_hidden,vocab_size),                        generator=g,device=\"cuda:0\") * 0.01     # fixing the initial loss (logits)\n",
    "b2          = torch.randn((vocab_size,),                                generator=g,device=\"cuda:0\") * 0.0      # fixing the initial loss (logits)\n",
    "\n",
    "parameters = [C,w1,b1,w2,b2]\n",
    "print(f\"total numbers of parameters :   {sum(para.nelement() for para in parameters)}\")\n",
    "for para in parameters:\n",
    "    para.requires_grad = True"
   ]
  },
  {
   "cell_type": "code",
   "execution_count": null,
   "metadata": {},
   "outputs": [
    {
     "name": "stdout",
     "output_type": "stream",
     "text": [
      "      0/ 100000 :   3.3238\n",
      "  10000/ 100000 :   2.6354\n",
      "  20000/ 100000 :   2.0343\n",
      "  30000/ 100000 :   2.3747\n",
      "  40000/ 100000 :   2.1267\n",
      "  50000/ 100000 :   2.4670\n",
      "  60000/ 100000 :   2.3716\n",
      "  70000/ 100000 :   2.2068\n",
      "  80000/ 100000 :   2.1845\n",
      "  90000/ 100000 :   2.0451\n"
     ]
    }
   ],
   "source": [
    "n_iter      = 100000\n",
    "batch_size  = 32\n",
    "loss_i      = []\n",
    "\n",
    "for i in range(n_iter):\n",
    "    ix              = torch.randint(0,x_train.shape[0],(batch_size,),generator=g,device=\"cuda:0\") # 32 numbers between 0 to 182437==>> shape (32,)\n",
    "    x_batch,y_batch = x_train[ix],y_train[ix] \n",
    "\n",
    "    # forward pass \n",
    "    emb         = C[x_batch]                # (32,3,10)\n",
    "    emb         = emb.view(emb.shape[0],-1) # (32,30)\n",
    "    h_preact    = emb @ w1 + b1             # (32,200)\n",
    "    h_act       = torch.tanh(h_preact)      # (32,200)\n",
    "\n",
    "    logits      = h_act @ w2 + b2           # (32,27)\n",
    "    loss        = F.cross_entropy(logits,y_batch) \n",
    "    #backward pass\n",
    "    for para in parameters:\n",
    "        para.grad = None\n",
    "    loss.backward()\n",
    "    \n",
    "    lr = 0.1 if n_iter < 75000 else 0.01 # step learning rate decay \n",
    "    for para in parameters:\n",
    "        para.data += -lr * para.grad\n",
    "    \n",
    "    # track loss \n",
    "    if i % 10000 == 0:\n",
    "        print(f\"{i:7d}/{n_iter:7d} :   {loss.item():.4f}\")\n",
    "    loss_i.append(loss.item())\n"
   ]
  },
  {
   "cell_type": "markdown",
   "metadata": {},
   "source": [
    "The logits are getting on 0 th elements are quite extreme values. That why its creating extreme loss value (28). Lets try it to make it logits approximatly/closer to zero. \n",
    "\n",
    "## 1. logits = w2 @ h_act + b2. we need to make logits to closer to zero.\n",
    "\n",
    "- Make the logits closer to zero at initialization \n",
    "    - b2 = 0 \n",
    "    - w2 ~ closer to  zero. scale down w2 by 0.1 all the elements. \n",
    "    - By doing that we get loss = 4.28, but we want closer to loss (uniform distribution loss = 3.2958)\n",
    "    - w2, scale down  by 0.01, ==>> loss we get closer to 3.2958.<br>\n",
    "\n",
    "    \n",
    "- Why we can't set w2 = 0 ???\n",
    "    1. Symmetry Problem in Neural Networks\n",
    "    \n",
    "        - Identical Neuron Behavior:\n",
    "            - Each neuron has weights that are updated during training. If all weights are initialized to zero, all neurons in a layer will compute the same output, leading to identical gradients during backpropagation.\n",
    "        - No Diversity in Learning:\n",
    "            - Because the neurons start with identical weights, they will learn the same features and update identically during training. This prevents the network from learning diverse and complex features, limiting its overall capacity and performance.\n",
    "\n",
    "    2. No Gradient Flow for Zero Initialization\n",
    "\n",
    "        - Gradient Descent: \n",
    "            - In gradient descent, weights are updated based on the gradient of the loss function with respect to the weights. If weights are initialized to zero, the gradients might also be zero for certain activation functions (like ReLU), causing the weights to remain zero, which halts learning altogether.\n",
    "        - Dead Neurons:\n",
    "            -  In the case of activation functions like ReLU, if the input to the neuron is zero, the gradient can be zero as well, leading to \"dead neurons\" that no longer update, further impairing the network's ability to learn.\n",
    "\n",
    "    3. Bias Term Doesn't Learn Properly\n",
    "\n",
    "        Bias Needs Flexibility: The bias term in a model helps shift the activation function, allowing the model to fit data better. Initializing weights to zero can prevent the bias from properly influencing the model, leading to a less effective model.\n",
    "\n",
    "    4. Optimization Difficulty\n",
    "\n",
    "        Poor Convergence: Zero initialization can lead to poor convergence in optimization algorithms like gradient descent. The weights might either converge very slowly or get stuck in suboptimal points because the gradient provides no meaningful direction to move towards.\n",
    "        Flat Loss Surface: With zero initialization, the loss surface might become flat, meaning that the model struggles to find gradients that lead to an optimal solution.\n",
    "\n",
    "\n"
   ]
  },
  {
   "cell_type": "code",
   "execution_count": null,
   "metadata": {},
   "outputs": [
    {
     "data": {
      "image/png": "[encoded data removed]",
      "text/plain": [
       "<Figure size 640x480 with 1 Axes>"
      ]
     },
     "metadata": {},
     "output_type": "display_data"
    }
   ],
   "source": [
    "plt.plot(torch.tensor(loss_i).log())\n",
    "plt.xlabel(\"iteration\")\n",
    "plt.ylabel(\"loss.log()\")\n",
    "plt.show()"
   ]
  },
  {
   "cell_type": "code",
   "execution_count": null,
   "metadata": {},
   "outputs": [
    {
     "data": {
      "image/png": "[encoded data removed]",
      "text/plain": [
       "<Figure size 640x480 with 1 Axes>"
      ]
     },
     "metadata": {},
     "output_type": "display_data"
    }
   ],
   "source": [
    "plt.plot(torch.tensor(loss_i))\n",
    "plt.xlabel(\"iteration\")\n",
    "plt.ylabel(\"loss.\")\n",
    "plt.show()"
   ]
  },
  {
   "cell_type": "code",
   "execution_count": null,
   "metadata": {},
   "outputs": [
    {
     "name": "stdout",
     "output_type": "stream",
     "text": [
      "train 2.1788675785064697\n",
      "val 2.2053844928741455\n"
     ]
    }
   ],
   "source": [
    "split_loss(\"train\")\n",
    "split_loss(\"val\")"
   ]
  },
  {
   "cell_type": "markdown",
   "metadata": {},
   "source": [
    "## 2. Fixing the Saturated Tanh()"
   ]
  },
  {
   "cell_type": "code",
   "execution_count": null,
   "metadata": {},
   "outputs": [
    {
     "data": {
      "image/png": "[encoded data removed]",
      "text/plain": [
       "<Figure size 1000x500 with 2 Axes>"
      ]
     },
     "metadata": {},
     "output_type": "display_data"
    }
   ],
   "source": [
    "fig, axs = plt.subplots(1, 2, figsize=(10, 5))\n",
    "\n",
    "# Plot the first histogram\n",
    "axs[0].hist(h_preact.flatten().tolist(),bins=50, color='blue', alpha=0.7)\n",
    "axs[0].set_title('Figure:3 Before Tanh() activation ')\n",
    "axs[0].set_xlabel('emb @ w1 + b1')\n",
    "axs[0].set_ylabel('Frequency')\n",
    "\n",
    "# Plot the second histogram\n",
    "axs[1].hist(h_act.flatten().tolist(),bins=50, color='blue', alpha=0.7)\n",
    "axs[1].set_title('Figure:4 After Tanh() activation ')\n",
    "axs[1].set_xlabel('Tanh(emb @ w1 + b1)')\n",
    "axs[1].set_ylabel('Frequency')\n",
    "\n",
    "# Display the plots\n",
    "plt.tight_layout()\n",
    "plt.show()"
   ]
  },
  {
   "cell_type": "markdown",
   "metadata": {},
   "source": [
    "From the graph we can see Tanh() funciton is strong,ie (value -1 and 1)\n",
    "```def tanh(self.data):\n",
    "    x = data\n",
    "    t = math.exp(2x) - 1 / math.exp(2x) + 1 \n",
    "    out = Value(t,(self,)\"tanh\")\n",
    "    \n",
    "    def _backward():\n",
    "        self.grad += (1 - t**2) * out.grad```\n",
    "\n",
    "\n",
    "1. case 1 : if we get tanh(x) = 1\n",
    "    self.grad +=  (1 - 1**2 ) * out./grad = 0. \n",
    "\n",
    "    Vanishing gradient = In this case the model literally learn nothing. \n",
    "\n",
    "2. case 2 : if we get tanh(x) = -1\n",
    "    self.grad +=  (1 - -1**2 ) * out./grad = 2 * out.grad.     \n",
    "\n",
    "    gradient explosion = In this case the model cannot learn nothing over the deap of NN layers. \n",
    "\n",
    "\n",
    "In the both end of Tanh() value, we have no control over it, because when ever we want to change the parameters , it doesn't have any impact on loss. "
   ]
  },
  {
   "cell_type": "code",
   "execution_count": null,
   "metadata": {},
   "outputs": [
    {
     "data": {
      "image/png": "[encoded data removed]",
      "text/plain": [
       "<Figure size 2000x1000 with 1 Axes>"
      ]
     },
     "metadata": {},
     "output_type": "display_data"
    }
   ],
   "source": [
    "plt.figure(figsize=(20,10))\n",
    "plt.imshow(h_act.cpu().detach().abs()>0.99,cmap=\"gray\",interpolation=\"nearest\");"
   ]
  },
  {
   "cell_type": "markdown",
   "metadata": {},
   "source": [
    "This above graph representing True False statement. The graph representing relationship between neurons (200) and datas (32). The black representing False and white representing white one. \n",
    "\n",
    "- White - all the tanh neurons are highly active (flat tail),**(highly active means closer to 1)** In all these point we get gradient would be destroyed.\n",
    "    - If the all column in perticular neuron is white it's meaning that the neuron is dead. (neuron where initialization of **w and b** never ever bought into activate). \n",
    "\n",
    "\n",
    "- Note: if gradient is zero, that means the neuron is dead. IF no datas ever activates its neuron, so neuron remain forever (permanent brain damage )"
   ]
  },
  {
   "cell_type": "markdown",
   "metadata": {},
   "source": [
    "![](https://www.oreilly.com/api/v2/epubs/9781788472173/files/assets/7f566009-af69-4eea-b244-014c5fc4fc19.png)\n"
   ]
  },
  {
   "cell_type": "code",
   "execution_count": null,
   "metadata": {},
   "outputs": [],
   "source": [
    "def find_dead_neuron(threshold:float=0.99,dead_neuron_percentage:float=0.75):\n",
    "    above_threshold             = h_act > threshold\n",
    "    percentage_above_threshold  = torch.mean(above_threshold.float(),dim=0)\n",
    "    #Check if any neuron has dead_neuron % or more of its outputs above 0.99\n",
    "    threshold_check = percentage_above_threshold >= dead_neuron_percentage\n",
    "    if torch.any(threshold_check):\n",
    "        print(f\"At least one neuron has {dead_neuron_percentage}% or more of its outputs above {threshold}.\")\n",
    "    else:\n",
    "        print(f\"No neuron has {dead_neuron_percentage}% or more of its outputs above {threshold}.\")\n",
    "\n",
    "    # Optionally, get the indices of neurons that satisfy this condition\n",
    "    neuron_indices = torch.nonzero(threshold_check).squeeze()\n",
    "    print(\"Dead neuron indices:\", neuron_indices.tolist())"
   ]
  },
  {
   "cell_type": "code",
   "execution_count": null,
   "metadata": {},
   "outputs": [
    {
     "name": "stdout",
     "output_type": "stream",
     "text": [
      "At least one neuron has 0.75% or more of its outputs above 0.99.\n",
      "Dead neuron indices: [10, 85, 87, 99, 119, 142, 193]\n"
     ]
    }
   ],
   "source": [
    "find_dead_neuron()"
   ]
  },
  {
   "cell_type": "code",
   "execution_count": null,
   "metadata": {},
   "outputs": [
    {
     "name": "stdout",
     "output_type": "stream",
     "text": [
      "total numbers of parameters :   11897\n"
     ]
    }
   ],
   "source": [
    "n_embd      = 10\n",
    "n_hidden    = 200\n",
    "block_size  = 3\n",
    "vocab_size  = len(itos)\n",
    "\n",
    "\n",
    "## initialize the parameters \n",
    "g           = torch.Generator(device=\"cuda:0\").manual_seed(2147483647)## for same producability \n",
    "C           = torch.randn((vocab_size,n_embd),                          generator=g,device=\"cuda:0\")\n",
    "w1          = torch.randn((n_embd * block_size,n_hidden),               generator=g,device=\"cuda:0\") * 0.1      # fixing the saturated tanh()\n",
    "b1          = torch.randn((n_hidden,),                                  generator=g,device=\"cuda:0\") * 0.01     # fixing the saturated tanh()\n",
    "w2          = torch.randn((n_hidden,vocab_size),                        generator=g,device=\"cuda:0\") * 0.01     # fixing the initial loss (logits)\n",
    "b2          = torch.randn((vocab_size,),                                generator=g,device=\"cuda:0\") * 0.0      # fixing the initial loss (logits)\n",
    "\n",
    "parameters = [C,w1,b1,w2,b2]\n",
    "print(f\"total numbers of parameters :   {sum(para.nelement() for para in parameters)}\")\n",
    "for para in parameters:\n",
    "    para.requires_grad = True"
   ]
  },
  {
   "cell_type": "markdown",
   "metadata": {},
   "source": [
    "h_preact = emb @ w1 + b1. we need to optimize the parameter w1 and b1 closer to zero. "
   ]
  },
  {
   "cell_type": "code",
   "execution_count": null,
   "metadata": {},
   "outputs": [
    {
     "name": "stdout",
     "output_type": "stream",
     "text": [
      "      0/ 100000 :   3.3059\n",
      "  10000/ 100000 :   2.7482\n",
      "  20000/ 100000 :   2.1210\n",
      "  30000/ 100000 :   2.3166\n",
      "  40000/ 100000 :   2.1576\n",
      "  50000/ 100000 :   2.5422\n",
      "  60000/ 100000 :   2.3834\n",
      "  70000/ 100000 :   2.1545\n",
      "  80000/ 100000 :   2.1989\n",
      "  90000/ 100000 :   1.9974\n"
     ]
    }
   ],
   "source": [
    "n_iter      = 100000\n",
    "batch_size  = 32\n",
    "loss_i      = []\n",
    "\n",
    "for i in range(n_iter):\n",
    "    ix              = torch.randint(0,x_train.shape[0],(batch_size,),generator=g,device=\"cuda:0\") # 32 numbers between 0 to 182437==>> shape (32,)\n",
    "    x_batch,y_batch = x_train[ix],y_train[ix] \n",
    "\n",
    "    # forward pass \n",
    "    emb         = C[x_batch]                # (32,3,10)\n",
    "    emb         = emb.view(emb.shape[0],-1) # (32,30)\n",
    "    h_preact    = emb @ w1 + b1             # (32,200)\n",
    "    h_act       = torch.tanh(h_preact)      # (32,200)\n",
    "\n",
    "    logits      = h_act @ w2 + b2           # (32,27)\n",
    "    loss        = F.cross_entropy(logits,y_batch) \n",
    "    #backward pass\n",
    "    for para in parameters:\n",
    "        para.grad = None\n",
    "    loss.backward()\n",
    "    \n",
    "    lr = 0.1 if n_iter < 75000 else 0.01 # step learning rate decay \n",
    "    for para in parameters:\n",
    "        para.data += -lr * para.grad\n",
    "    \n",
    "    # track loss \n",
    "    if i % 10000 == 0:\n",
    "        print(f\"{i:7d}/{n_iter:7d} :   {loss.item():.4f}\")\n",
    "    loss_i.append(loss.item())\n"
   ]
  },
  {
   "cell_type": "code",
   "execution_count": null,
   "metadata": {},
   "outputs": [
    {
     "data": {
      "image/png": "[encoded data removed]",
      "text/plain": [
       "<Figure size 2000x1000 with 1 Axes>"
      ]
     },
     "metadata": {},
     "output_type": "display_data"
    }
   ],
   "source": [
    "plt.figure(figsize=(20,10))\n",
    "plt.imshow(h_act.cpu().detach().abs()>0.99,cmap=\"gray\",interpolation=\"nearest\");"
   ]
  },
  {
   "cell_type": "code",
   "execution_count": null,
   "metadata": {},
   "outputs": [
    {
     "data": {
      "image/png": "[encoded data removed]",
      "text/plain": [
       "<Figure size 1000x500 with 2 Axes>"
      ]
     },
     "metadata": {},
     "output_type": "display_data"
    }
   ],
   "source": [
    "fig, axs = plt.subplots(1, 2, figsize=(10, 5))\n",
    "\n",
    "# Plot the first histogram\n",
    "axs[0].hist(h_preact.flatten().tolist(),bins=50, color='blue', alpha=0.7)\n",
    "axs[0].set_title('Figure:5 Before Tanh() activation ')\n",
    "axs[0].set_xlabel('emb @ w1 + b1')\n",
    "axs[0].set_ylabel('Frequency')\n",
    "\n",
    "# Plot the second histogram\n",
    "axs[1].hist(h_act.flatten().tolist(),bins=50, color='blue', alpha=0.7)\n",
    "axs[1].set_title('Figure:6 After Tanh() activation ')\n",
    "axs[1].set_xlabel('Tanh(emb @ w1 + b1)')\n",
    "axs[1].set_ylabel('Frequency')\n",
    "\n",
    "# Display the plots\n",
    "plt.tight_layout()\n",
    "plt.show()"
   ]
  },
  {
   "cell_type": "code",
   "execution_count": null,
   "metadata": {},
   "outputs": [
    {
     "name": "stdout",
     "output_type": "stream",
     "text": [
      "At least one neuron has 0.35% or more of its outputs above 0.99.\n",
      "Dead neuron indices: 87\n"
     ]
    }
   ],
   "source": [
    "find_dead_neuron(dead_neuron_percentage=0.35)"
   ]
  },
  {
   "cell_type": "code",
   "execution_count": null,
   "metadata": {},
   "outputs": [
    {
     "name": "stdout",
     "output_type": "stream",
     "text": [
      "train 2.1627485752105713\n",
      "val 2.1801514625549316\n"
     ]
    }
   ],
   "source": [
    "split_loss(\"train\")\n",
    "split_loss(\"val\")"
   ]
  },
  {
   "cell_type": "markdown",
   "metadata": {},
   "source": [
    "## He_Initialization"
   ]
  },
  {
   "cell_type": "code",
   "execution_count": null,
   "metadata": {},
   "outputs": [
    {
     "name": "stdout",
     "output_type": "stream",
     "text": [
      "tensor(0.0034) tensor(1.0058)\n",
      "tensor(-0.0121) tensor(3.1826)\n"
     ]
    },
    {
     "data": {
      "image/png": "[encoded data removed]",
      "text/plain": [
       "<Figure size 2000x500 with 2 Axes>"
      ]
     },
     "metadata": {},
     "output_type": "display_data"
    }
   ],
   "source": [
    "x = torch.randn(1000,10)\n",
    "w = torch.randn(10,200)\n",
    "y = x @ w \n",
    "print(x.mean(),x.std())\n",
    "print(y.mean(),y.std())\n",
    "\n",
    "plt.figure(figsize=(20,5))\n",
    "plt.subplot(121)\n",
    "plt.hist(x.view(-1).tolist(),bins=50,density=True);\n",
    "\n",
    "plt.subplot(122)\n",
    "plt.hist(y.view(-1).tolist(),bins=50,density=True);"
   ]
  },
  {
   "cell_type": "markdown",
   "metadata": {},
   "source": [
    "x - mean is closer to 0 and std is 1. Then we multily this x with w, result = y, the std is greater than 3. in this case we have 3.24. \n",
    "- This means that when we multiply x @ w we get closer to same mean but std deviation is entirely changed, std = 3.\n",
    "\n",
    "#### We don't want to change the charactetrs of distribution ever after the multiplication operation. \n",
    "\n",
    "- Most of the neural network has similiar activation, so we need to conserve the normal distribution through out the network. So we need to conserve the weight and bias parameters. "
   ]
  },
  {
   "cell_type": "code",
   "execution_count": null,
   "metadata": {},
   "outputs": [
    {
     "name": "stdout",
     "output_type": "stream",
     "text": [
      "before multiplication\n",
      "mean : 0.0025479395408183336,   std : 1.002100944519043\n",
      "\n",
      "\n",
      "after multiplication\n",
      "mean  : -7.572477625217289e-05,   std : 0.9936976432800293\n"
     ]
    }
   ],
   "source": [
    "x = torch.randn(1000,50)\n",
    "w = torch.randn(50,200) / 50**0.5   # fan_in = 50, fan_out = 200  ==>> w * 1/ square_root(fan_in) \n",
    "\n",
    "y = x @ w \n",
    "\n",
    "print(f\"before multiplication\\nmean : {x.mean()},   std : {x.std()}\")\n",
    "print(\"\\n\")\n",
    "print(f\"after multiplication\\nmean  : {y.mean()},   std : {y.std()}\")\n"
   ]
  },
  {
   "cell_type": "markdown",
   "metadata": {},
   "source": [
    "- For conserving the std of weight parameter, we multiply it with std\n",
    "    - std = gain / square_root of Fan_in. \n",
    "        - Where, Fan_in = number of input.\n",
    "\n",
    "- Gain value are given in https://pytorch.org/docs/stable/nn.init.html\n",
    "\n",
    "```nn.init.kaiming_uniform_(w, mode='fan_in', nonlinearity='tanh')```\n"
   ]
  },
  {
   "cell_type": "code",
   "execution_count": null,
   "metadata": {},
   "outputs": [
    {
     "data": {
      "text/plain": [
       "0.3042903097250923"
      ]
     },
     "execution_count": 32,
     "metadata": {},
     "output_type": "execute_result"
    }
   ],
   "source": [
    "# lets find out the std for tanh()\n",
    "(5/3) / (30)**0.5 # n_embd * block_size = 10 * 3"
   ]
  },
  {
   "cell_type": "code",
   "execution_count": 168,
   "metadata": {},
   "outputs": [],
   "source": [
    "def initialization_parameters():\n",
    "    n_embd      = 10\n",
    "    n_hidden    = 200\n",
    "    block_size  = 3\n",
    "    vocab_size  = len(itos)\n",
    "\n",
    "\n",
    "    ## initialize the parameters \n",
    "    g           = torch.Generator(device=\"cuda:0\").manual_seed(2147483647)## for same producability \n",
    "    C           = torch.randn((vocab_size,n_embd),                          generator=g,device=\"cuda:0\")\n",
    "    w1          = torch.randn((n_embd * block_size,n_hidden),               generator=g,device=\"cuda:0\") * ((5/3)*(n_embd * block_size)**0.5)  # = 0.3042 \n",
    "    b1          = torch.randn((n_hidden,),                                  generator=g,device=\"cuda:0\") * 0.01\n",
    "    w2          = torch.randn((n_hidden,vocab_size),                        generator=g,device=\"cuda:0\") * 0.01     # fixing the initial loss (logits)\n",
    "    b2          = torch.randn((vocab_size,),                                generator=g,device=\"cuda:0\") * 0.0      # fixing the initial loss (logits)\n",
    "\n",
    "    parameters = [C,w1,b1,w2,b2]\n",
    "    \n",
    "    print(f\"total numbers of parameters :   {sum(para.nelement() for para in parameters)}\")\n",
    "\n",
    "    return parameters,C,w1,b1,w2,b2"
   ]
  },
  {
   "cell_type": "code",
   "execution_count": 169,
   "metadata": {},
   "outputs": [
    {
     "name": "stdout",
     "output_type": "stream",
     "text": [
      "total numbers of parameters :   11897\n"
     ]
    }
   ],
   "source": [
    "parameters,C,w1,b1,w2,b2 = initialization_parameters()\n",
    "for para in parameters:\n",
    "    para.requires_grad = True"
   ]
  },
  {
   "cell_type": "code",
   "execution_count": null,
   "metadata": {},
   "outputs": [
    {
     "name": "stdout",
     "output_type": "stream",
     "text": [
      "      0/ 100000 :   3.3477\n",
      "  10000/ 100000 :   2.3928\n",
      "  20000/ 100000 :   2.0058\n",
      "  30000/ 100000 :   2.3829\n",
      "  40000/ 100000 :   2.2120\n",
      "  50000/ 100000 :   2.2568\n",
      "  60000/ 100000 :   2.3607\n",
      "  70000/ 100000 :   2.4172\n",
      "  80000/ 100000 :   2.0026\n",
      "  90000/ 100000 :   2.2766\n"
     ]
    }
   ],
   "source": [
    "n_iter      = 100000\n",
    "batch_size  = 32\n",
    "loss_i      = []\n",
    "\n",
    "for i in range(n_iter):\n",
    "    ix              = torch.randint(0,x_train.shape[0],(batch_size,),generator=g,device=\"cuda:0\") # 32 numbers between 0 to 182437==>> shape (32,)\n",
    "    x_batch,y_batch = x_train[ix],y_train[ix] \n",
    "\n",
    "    # forward pass \n",
    "    emb         = C[x_batch]                # (32,3,10)\n",
    "    emb         = emb.view(emb.shape[0],-1) # (32,30)\n",
    "    h_preact    = emb @ w1 + b1             # (32,200)\n",
    "    h_act       = torch.tanh(h_preact)      # (32,200)\n",
    "\n",
    "    logits      = h_act @ w2 + b2           # (32,27)\n",
    "    loss        = F.cross_entropy(logits,y_batch) \n",
    "    #backward pass\n",
    "    for para in parameters:\n",
    "        para.grad = None\n",
    "    loss.backward()\n",
    "    \n",
    "    lr = 0.1 if n_iter < 75000 else 0.01 # step learning rate decay \n",
    "    for para in parameters:\n",
    "        para.data += -lr * para.grad\n",
    "    \n",
    "    # track loss \n",
    "    if i % 10000 == 0:\n",
    "        print(f\"{i:7d}/{n_iter:7d} :   {loss.item():.4f}\")\n",
    "    loss_i.append(loss.item())\n"
   ]
  },
  {
   "cell_type": "code",
   "execution_count": null,
   "metadata": {},
   "outputs": [
    {
     "name": "stdout",
     "output_type": "stream",
     "text": [
      "train 2.8331501483917236\n",
      "val 2.83701491355896\n"
     ]
    }
   ],
   "source": [
    "split_loss(\"train\")\n",
    "split_loss(\"val\")"
   ]
  },
  {
   "cell_type": "markdown",
   "metadata": {},
   "source": [
    "## Batch Normalization\n",
    "\n",
    "\n",
    "Batch Normalization: Accelerating Deep Network Training by Reducing Internal Covariate Shift - https://arxiv.org/pdf/1502.03167"
   ]
  },
  {
   "cell_type": "markdown",
   "metadata": {},
   "source": [
    "- Training Deep Neural Networks is complicated by the fact that the distribution of each layer’s inputs changes during training, as the parameters of the previous layers change.\n",
    "- This slows down the training by requiring lower learning rates and careful parameter initialization, and makes it notoriously hard to train models with saturating nonlinearities. \n",
    "- This is called as **internal covariate shift** \n",
    "- To solve this problems we use normalization for each training mini-batch.\n"
   ]
  },
  {
   "cell_type": "code",
   "execution_count": 158,
   "metadata": {},
   "outputs": [
    {
     "name": "stdout",
     "output_type": "stream",
     "text": [
      "total numbers of parameters :   11897\n"
     ]
    }
   ],
   "source": [
    "parameters,C,w1,b1,w2,b2 = initialization_parameters()\n",
    "\n",
    "bn_gain = torch.ones(1,n_hidden,device=\"cuda:0\")\n",
    "bn_bias = torch.zeros(1,n_hidden,device=\"cuda:0\")\n",
    "\n",
    "parameters.append(bn_gain)\n",
    "parameters.append(bn_bias)\n",
    "\n",
    "for para in parameters:\n",
    "    para.requires_grad = True"
   ]
  },
  {
   "cell_type": "code",
   "execution_count": 105,
   "metadata": {},
   "outputs": [
    {
     "name": "stdout",
     "output_type": "stream",
     "text": [
      "      0/ 100000 :   3.3192\n",
      "  10000/ 100000 :   2.4422\n",
      "  20000/ 100000 :   2.4432\n",
      "  30000/ 100000 :   2.1960\n",
      "  40000/ 100000 :   2.1560\n",
      "  50000/ 100000 :   2.2372\n",
      "  60000/ 100000 :   2.2950\n",
      "  70000/ 100000 :   2.3668\n",
      "  80000/ 100000 :   2.4734\n",
      "  90000/ 100000 :   2.2652\n"
     ]
    }
   ],
   "source": [
    "n_iter      = 100000\n",
    "batch_size  = 32\n",
    "loss_i      = []\n",
    "\n",
    "for i in range(n_iter):\n",
    "    ix              = torch.randint(0,x_train.shape[0],(batch_size,),generator=g,device=\"cuda:0\") # 32 numbers between 0 to 182437==>> shape (32,)\n",
    "    x_batch,y_batch = x_train[ix],y_train[ix] \n",
    "\n",
    "    # forward pass \n",
    "    emb         = C[x_batch]                # (32,3,10)\n",
    "    emb         = emb.view(emb.shape[0],-1) # (32,30)\n",
    "    h_preact    = emb @ w1 + b1             # (32,200)\n",
    "    #batch normalization\n",
    "    bn_mean_i   = torch.mean(h_preact,dim=0,keepdim=True)\n",
    "    bn_std_i    = torch.std(h_preact,dim=0,keepdim=True)\n",
    "    h_preact    = (h_preact - bn_mean_i) / bn_std_i\n",
    "    h_preact    = bn_gain * h_preact + bn_bias\n",
    "    h_act       = torch.tanh(h_preact)                  # (32,200)\n",
    "\n",
    "    logits      = h_act @ w2 + b2                       # (32,27)\n",
    "    loss        = F.cross_entropy(logits,y_batch) \n",
    "    for para in parameters:\n",
    "        para.grad = None\n",
    "    loss.backward()\n",
    "    \n",
    "    lr = 0.1 if n_iter < 85000 else 0.01                # step learning rate decay \n",
    "    for para in parameters:\n",
    "        para.data += -lr * para.grad\n",
    "    \n",
    "    # track loss \n",
    "    if i % 10000 == 0:\n",
    "        print(f\"{i:7d}/{n_iter:7d} :   {loss.item():.4f}\")\n",
    "    loss_i.append(loss.item())"
   ]
  },
  {
   "cell_type": "markdown",
   "metadata": {},
   "source": [
    "- By only doing standadization, we would'nt get any improved result. Because we want these to be roughly gaussian, but **only at initialization**, but we dont want to be forced to be gaussian always. \n",
    "- We want to move this around the distribusion, to potentially make it more spread, less spread, sharp (don't want to be always gaussian). \n",
    "- So back propagation can be tell us how the distribustion should move around. so that we also include additional components. "
   ]
  },
  {
   "cell_type": "code",
   "execution_count": 109,
   "metadata": {},
   "outputs": [
    {
     "data": {
      "image/png": "[encoded data removed]",
      "text/plain": [
       "<Figure size 640x480 with 1 Axes>"
      ]
     },
     "metadata": {},
     "output_type": "display_data"
    }
   ],
   "source": [
    "plt.plot(loss_i);"
   ]
  },
  {
   "cell_type": "markdown",
   "metadata": {},
   "source": [
    "- During the optimization / back propagation network gives full ability to do whatever they want internally. \n",
    "- In this case the batch normalization is not much doing anything, because the This model is simple so its have lesser effect. And also before 'BN' we already make the distribution gaussian by other methods like He_initialization, weight initialization, so that BN normalization doesnt give proper result on the training. But for complex NN/deeper NN models BN is capable of better perfomance.<br> \n",
    "\n",
    "## Disadvantages \n",
    "\n",
    "\n",
    "- For efficiency we traine the model with batches of datas, so the batches of datas were processed independently. \n",
    "1. Batch normalization introduces additional complexity to the model by adding extra parameters (scale and shift parameters) and the need to compute mean and variance for each batch during training.\n",
    "\n",
    "2. Dependence on Batch Size: The performance of batch normalization can be sensitive to the batch size used. Smaller batch sizes may lead to noisier estimates of the batch statistics, which can negatively impact the model's performance.\n",
    "\n",
    "3. Training-Time Only: The benefits of batch normalization (such as reducing internal covariate shift) are primarily seen during training. During inference, fixed statistics (calculated from the training set) are used, which might not perfectly represent the true distribution of data the model sees during inference.\n",
    "\n",
    "4. Incompatibility with Certain Architectures: In some cases, such as in recurrent neural networks (RNNs) or with very small batch sizes, batch normalization may not be suitable or may require modifications (e.g., using Layer Normalization instead).\n",
    "\n",
    "5. Potential for Overfitting: If not used correctly, batch normalization can potentially lead to overfitting, especially when combined with small batch sizes or complex models.\n"
   ]
  },
  {
   "cell_type": "markdown",
   "metadata": {},
   "source": [
    "![](https://kharshit.github.io/img/batch_normalization.png)"
   ]
  },
  {
   "cell_type": "markdown",
   "metadata": {},
   "source": [
    "- Stability offered by Batch normalization actually comes at terible cost. \n",
    "- Single data is feed into NN and we calculate this activations and its logits and get logits, for training efficiency of we use batches, and those process independently. \n",
    "- Each `h_preact` that feed into hidden layer activations for any data in batch is actually going to change slightly depending on what other data in batch. And output of activation function is Jitter. \n",
    "\n",
    "- This effect is really a good in NN trainig- This is act like a `Regularizer`.\n",
    "    - You have an example (data) and get a `h_act`and depending on other data in batch this going to jitter (noise)     \n",
    "    - By noise, its difficult to over fit the model, \n",
    "\n",
    "### Pass single data into NN \n",
    "\n",
    "\n",
    "- Once we train the model we feed single data into model for getting prediction. But how we do this when we calculate the statistics of batch data. "
   ]
  },
  {
   "cell_type": "code",
   "execution_count": 121,
   "metadata": {},
   "outputs": [],
   "source": [
    " # we dont wanna calculate the grad of either mean and std of the entire dataset, that why we use torch.no_grad()\n",
    "\n",
    "with torch.no_grad():\n",
    "    emb         = C[x_train]\n",
    "    emb         = emb.view(emb.shape[0],-1) # (number_of_dataset, block_size * n_emb) (N, 3 * 10)\n",
    "    h_preact    = emb @ w1 + b1             # (N,200)\n",
    "    # calculate the mean and std of entire dataset \n",
    "    bn_mean     = torch.mean(h_preact,dim=0,keepdim=True)\n",
    "    bn_std      = torch.std(h_preact,dim=0,keepdim=True)    \n"
   ]
  },
  {
   "cell_type": "code",
   "execution_count": 122,
   "metadata": {},
   "outputs": [
    {
     "name": "stdout",
     "output_type": "stream",
     "text": [
      "train 2.2454428672790527\n",
      "val 2.251929521560669\n"
     ]
    }
   ],
   "source": [
    "@torch.no_grad()       # this decorator disable gradient tracking, (no need to calulate during evaluation)\n",
    "def split_loss(split):\n",
    "    x,y = {\n",
    "        \"train\" : (x_train,y_train),\n",
    "        \"val\"   : (x_val,y_val),\n",
    "        \"test\"  : (x_test,y_test)\n",
    "    }[split]\n",
    "    emb         = C[x]\n",
    "    emb         = emb.view(emb.shape[0],-1) # (number_of_dataset, block_size * n_emb) (N, 3 * 10)\n",
    "    h_preact    = emb @ w1 + b1             # (N,200)\n",
    "    #batch normalization\n",
    "    h_preact    = (h_preact - bn_mean) / bn_std\n",
    "    h_preact    = bn_gain * h_preact + bn_bias\n",
    "    h_act       = torch.tanh(h_preact)      # (N,200)\n",
    "\n",
    "    logits      = h_act @ w2 + b2           # (N,27)\n",
    "    loss        = F.cross_entropy(logits,y) \n",
    "    print(split,loss.item())\n",
    "\n",
    "split_loss(\"train\")\n",
    "split_loss(\"val\")\n"
   ]
  },
  {
   "cell_type": "markdown",
   "metadata": {},
   "source": [
    "The above operation is not efficient, so we need to find the mean and std during the training. \n",
    "## We can find the bn_mean and bn_std during the iteration."
   ]
  },
  {
   "cell_type": "code",
   "execution_count": 170,
   "metadata": {},
   "outputs": [
    {
     "name": "stdout",
     "output_type": "stream",
     "text": [
      "total numbers of parameters :   11897\n",
      "total numbers of parameters :   12297\n"
     ]
    }
   ],
   "source": [
    "# parameters of  the model.\n",
    "parameters,C,w1,b1,w2,b2 = initialization_parameters()\n",
    "\n",
    "bn_gain = torch.ones(1,n_hidden,device=\"cuda:0\")\n",
    "bn_bias = torch.zeros(1,n_hidden,device=\"cuda:0\")\n",
    "parameters.append(bn_gain)\n",
    "parameters.append(bn_bias)\n",
    "\n",
    "# buffer of the model \n",
    "bn_mean_running = torch.zeros(1,n_hidden,device=\"cuda:0\")           # why we use mean=0 and std= 1,during the initialization we make it as gaussian data\n",
    "bn_std_running  = torch.ones(1,n_hidden,device=\"cuda:0\")            # why we use mean=0 and std= 1,during the initialization we make it as gaussian data \n",
    "\n",
    "print(f\"total numbers of parameters :   {sum(para.nelement() for para in parameters)}\")\n",
    "for para in parameters:\n",
    "    para.requires_grad = True"
   ]
  },
  {
   "cell_type": "markdown",
   "metadata": {},
   "source": [
    "- During the training (updating parameters) `bn_mean_running & bn_std_running` are not part of gradient based optimization. So never derive gradient of both of these duting the training. \n",
    "- "
   ]
  },
  {
   "cell_type": "code",
   "execution_count": 171,
   "metadata": {},
   "outputs": [
    {
     "name": "stdout",
     "output_type": "stream",
     "text": [
      "      0/ 100000 :   3.2642\n",
      "  10000/ 100000 :   2.7036\n",
      "  20000/ 100000 :   2.2060\n",
      "  30000/ 100000 :   2.3763\n",
      "  40000/ 100000 :   2.4879\n",
      "  50000/ 100000 :   2.3460\n",
      "  60000/ 100000 :   2.5737\n",
      "  70000/ 100000 :   2.5552\n",
      "  80000/ 100000 :   2.1835\n",
      "  90000/ 100000 :   2.3333\n"
     ]
    }
   ],
   "source": [
    "n_iter      = 100000\n",
    "batch_size  = 32\n",
    "loss_i      = []\n",
    "\n",
    "for i in range(n_iter):\n",
    "    ix              = torch.randint(0,x_train.shape[0],(batch_size,),generator=g,device=\"cuda:0\") # 32 numbers between 0 to 182437==>> shape (32,)\n",
    "    x_batch,y_batch = x_train[ix],y_train[ix] \n",
    "\n",
    "    # forward pass \n",
    "    emb         = C[x_batch]                # (32,3,10)\n",
    "    emb         = emb.view(emb.shape[0],-1) # (32,30)\n",
    "    h_preact    = emb @ w1 + b1             # (32,200)\n",
    "\n",
    "    #batch normalization\n",
    "    bn_mean_i   = torch.mean(h_preact,dim=0,keepdim=True)   # finding the batch mean\n",
    "    bn_std_i    = torch.std(h_preact,dim=0,keepdim=True)    # finding the batch std\n",
    "    h_preact    = (h_preact - bn_mean_i) / bn_std_i\n",
    "    h_preact    = bn_gain * h_preact + bn_bias\n",
    "\n",
    "    # finding mean and std of entire dataset\n",
    "    with torch.no_grad():\n",
    "        bn_mean_running = 0.999 * bn_mean_running + 0.001 * bn_mean_i\n",
    "        bn_std_running  = 0.999 * bn_std_running  + 0.001 * bn_std_i\n",
    "\n",
    "    h_act       = torch.tanh(h_preact)                  # (32,200)\n",
    "    logits      = h_act @ w2 + b2                       # (32,27)\n",
    "    loss        = F.cross_entropy(logits,y_batch) \n",
    "    for para in parameters:\n",
    "        para.grad = None\n",
    "    loss.backward()\n",
    "    \n",
    "    lr = 0.1 if n_iter < 85000 else 0.01                # step learning rate decay \n",
    "    for para in parameters:\n",
    "        para.data += -lr * para.grad\n",
    "    \n",
    "    # track loss \n",
    "    if i % 10000 == 0:\n",
    "        print(f\"{i:7d}/{n_iter:7d} :   {loss.item():.4f}\")\n",
    "    loss_i.append(loss.item())"
   ]
  },
  {
   "cell_type": "markdown",
   "metadata": {},
   "source": [
    "- In this case `bn_mean_running ~= bn_mean` and `bn_std_running ~= bn_std`\n",
    "\n",
    "\n",
    "In this  above case, we combine \n",
    "``` \n",
    "\n",
    "with torch.no_grad():\n",
    "    emb         = C[x_train]\n",
    "    emb         = emb.view(emb.shape[0],-1) # (number_of_dataset, block_size * n_emb) (N, 3 * 10)\n",
    "    h_preact    = emb @ w1 + b1             # (N,200)\n",
    "    # calculate the mean and std of entire dataset \n",
    "    bn_mean     = torch.mean(h_preact,dim=0,keepdim=True)\n",
    "    bn_std      = torch.std(h_preact,dim=0,keepdim=True)    \n",
    "\n",
    "with training stage. "
   ]
  },
  {
   "cell_type": "code",
   "execution_count": 149,
   "metadata": {},
   "outputs": [
    {
     "data": {
      "text/plain": [
       "(46.713645935058594, 47.30787658691406)"
      ]
     },
     "execution_count": 149,
     "metadata": {},
     "output_type": "execute_result"
    }
   ],
   "source": [
    "bn_std_running[0,1].item(),bn_std[0,1].item()\n",
    "\n",
    "\n",
    "## look at the result, both are approximately equal. "
   ]
  },
  {
   "cell_type": "markdown",
   "metadata": {},
   "source": [
    "- From the batch normalization we can see a term \"Epsilon\". Its mainly used for preventing division by 0,\n",
    "\n",
    "## No need for b1 term\n",
    "\n",
    "- h_preact = bn_gain * (h_preact - bn_mean_i) / bn_std_i + bn_bias -- This is the equation for batch normalization. \n",
    "- `b1` is added with `h_preact = emb * w1 + b1`, this bias is actually useless.\n",
    "    - calculate the mean (bn_mean_i) is subtracted with h_preact,`h_preact - bn_mean_i`. \n",
    "        - whenever bias is add, ie `h_preact    = emb @ w1 + b1` is going to subtracted `h_preact - bn_mean_i` here. so bias not imapact on calculation. \n",
    "        - b1.grad = 0.0 \n",
    "- Batch normalization, better to not use bias(b) before non linear function. \n",
    "- Actually bn_bias taking care of calculations rather than bias (b1). Batch normalization has it own bias (bn_bias), and there is no need to have bias (b) in the layer before it. \n"
   ]
  },
  {
   "cell_type": "code",
   "execution_count": 173,
   "metadata": {},
   "outputs": [
    {
     "name": "stdout",
     "output_type": "stream",
     "text": [
      "total numbers of parameters :   11697\n",
      "total numbers of parameters :   12097\n"
     ]
    }
   ],
   "source": [
    "def initialization_parameters():\n",
    "    n_embd      = 10\n",
    "    n_hidden    = 200\n",
    "    block_size  = 3\n",
    "    vocab_size  = len(itos)\n",
    "\n",
    "\n",
    "    ## initialize the parameters \n",
    "    g           = torch.Generator(device=\"cuda:0\").manual_seed(2147483647)## for same producability \n",
    "    C           = torch.randn((vocab_size,n_embd),                          generator=g,device=\"cuda:0\")\n",
    "    w1          = torch.randn((n_embd * block_size,n_hidden),               generator=g,device=\"cuda:0\") * ((5/3)*(n_embd * block_size)**0.5)  # = 0.3042 \n",
    "    w2          = torch.randn((n_hidden,vocab_size),                        generator=g,device=\"cuda:0\") * 0.01     # fixing the initial loss (logits)\n",
    "    b2          = torch.randn((vocab_size,),                                generator=g,device=\"cuda:0\") * 0.0      # fixing the initial loss (logits)\n",
    "\n",
    "    parameters = [C,w1,w2,b2]\n",
    "    \n",
    "    print(f\"total numbers of parameters :   {sum(para.nelement() for para in parameters)}\")\n",
    "\n",
    "    return parameters,C,w1,w2,b2\n",
    "\n",
    "##-------------------------------------------------------------------------------------------------------------------------------\n",
    "parameters,C,w1,w2,b2 = initialization_parameters()\n",
    "\n",
    "bn_gain = torch.ones(1,n_hidden,device=\"cuda:0\")\n",
    "bn_bias = torch.zeros(1,n_hidden,device=\"cuda:0\")\n",
    "parameters.append(bn_gain)\n",
    "parameters.append(bn_bias)\n",
    "\n",
    "\n",
    "bn_mean_running = torch.zeros(1,n_hidden,device=\"cuda:0\")           # why we use mean=0 and std= 1,during the initialization we make it as gaussian data\n",
    "bn_std_running  = torch.ones(1,n_hidden,device=\"cuda:0\")            # why we use mean=0 and std= 1,during the initialization we make it as gaussian data \n",
    "\n",
    "print(f\"total numbers of parameters :   {sum(para.nelement() for para in parameters)}\")\n",
    "for para in parameters:\n",
    "    para.requires_grad = True"
   ]
  },
  {
   "cell_type": "code",
   "execution_count": 174,
   "metadata": {},
   "outputs": [
    {
     "name": "stdout",
     "output_type": "stream",
     "text": [
      "      0/ 100000 :   3.2992\n",
      "  10000/ 100000 :   2.6282\n",
      "  20000/ 100000 :   2.5567\n",
      "  30000/ 100000 :   2.2255\n",
      "  40000/ 100000 :   2.2702\n",
      "  50000/ 100000 :   2.4597\n",
      "  60000/ 100000 :   2.3778\n",
      "  70000/ 100000 :   2.8408\n",
      "  80000/ 100000 :   1.8680\n",
      "  90000/ 100000 :   2.3952\n"
     ]
    }
   ],
   "source": [
    "n_iter      = 100000\n",
    "batch_size  = 32\n",
    "loss_i      = []\n",
    "\n",
    "for i in range(n_iter):\n",
    "\n",
    "    # mini batch\n",
    "    ix              = torch.randint(0,x_train.shape[0],(batch_size,),generator=g,device=\"cuda:0\") # 32 numbers between 0 to 182437==>> shape (32,)\n",
    "    x_batch,y_batch = x_train[ix],y_train[ix] \n",
    "    # forward pass \n",
    "    emb         = C[x_batch]                # (32,3,10)\n",
    "    emb         = emb.view(emb.shape[0],-1) # (32,30)\n",
    "    # linear layer \n",
    "    h_preact    = emb @ w1 #+ b1             # (32,200)\n",
    "    # ---------------------------------------------------------------------------------------------------------\n",
    "    #batch normalization\n",
    "    # ----------------------------------------------------------------------------------------------------------\n",
    "    bn_mean_i   = torch.mean(h_preact,dim=0,keepdim=True)   # finding the batch mean\n",
    "    bn_std_i    = torch.std(h_preact,dim=0,keepdim=True)    # finding the batch std\n",
    "    h_preact    = (h_preact - bn_mean_i) / bn_std_i\n",
    "    h_preact    = bn_gain * h_preact + bn_bias\n",
    "    # finding mean and std of entire dataset\n",
    "    with torch.no_grad():\n",
    "        bn_mean_running = 0.999 * bn_mean_running + 0.001 * bn_mean_i   # momemtum = 0.001\n",
    "        bn_std_running  = 0.999 * bn_std_running  + 0.001 * bn_std_i\n",
    "    # -----------------------------------------------------------------------------------------------------------\n",
    "    # Non linear layer \n",
    "    h_act       = torch.tanh(h_preact)              # (32,200)  ==>> hidden layer \n",
    "    logits      = h_act @ w2 + b2                   # (32,27)   ==>> output layer\n",
    "    loss        = F.cross_entropy(logits,y_batch)   #           ==>> loss function\n",
    "    for para in parameters:\n",
    "        para.grad = None\n",
    "    loss.backward()\n",
    "    \n",
    "    lr = 0.1 if n_iter < 85000 else 0.01                # step learning rate decay \n",
    "    for para in parameters:\n",
    "        para.data += -lr * para.grad\n",
    "    \n",
    "    # track loss \n",
    "    if i % 10000 == 0:\n",
    "        print(f\"{i:7d}/{n_iter:7d} :   {loss.item():.4f}\")\n",
    "    loss_i.append(loss.item())"
   ]
  },
  {
   "cell_type": "code",
   "execution_count": 175,
   "metadata": {},
   "outputs": [
    {
     "name": "stdout",
     "output_type": "stream",
     "text": [
      "train 2.2448792457580566\n",
      "val 2.252720594406128\n"
     ]
    }
   ],
   "source": [
    "split_loss(\"train\")\n",
    "split_loss(\"val\")"
   ]
  },
  {
   "cell_type": "markdown",
   "metadata": {},
   "source": [
    "```with torch.no_grad():\n",
    "        bn_mean_running = 0.999 * bn_mean_running + 0.001 * bn_mean_i  \n",
    "        bn_std_running  = 0.999 * bn_std_running  + 0.001 * bn_std_i\n",
    "```\n",
    "#### 0.001 is momentum, \n",
    "\n",
    "#### Some times we need to change the momentum value based on the batch size "
   ]
  },
  {
   "cell_type": "markdown",
   "metadata": {},
   "source": [
    "- if you have very large size, the mean and std are going to have approximately equal to each other in all batches. \n",
    "    - bn_mean_i is going to have  same mean in all batches. \n",
    "    - bn_std_i is going to have  same std in all batches. \n",
    "\n",
    "    - so value of momentum choos to be higher. \n",
    "- if batch size is smaller like 32, the mean and std going to have different values. so we need to settle down the mean and std we choose momentum to lower values like 0.001. \n",
    "    - if choose momentum to be smaller like 0.1, then the bn_mean_running would be trashing tooo mush. and doesnt help to converge properly. "
   ]
  },
  {
   "cell_type": "markdown",
   "metadata": {},
   "source": [
    "batch normalization link :- https://pytorch.org/docs/stable/generated/torch.nn.BatchNorm1d.html\n",
    "\n",
    "\n",
    "- track_running_stats=True \n",
    "\n",
    "     ```\n",
    "     with torch.no_grad():\n",
    "        bn_mean_running = 0.999 * bn_mean_running + 0.001 * bn_mean_i   \n",
    "        bn_std_running  = 0.999 * bn_std_running  + 0.001 * bn_std_i```\n",
    "\n",
    "- track_running_stats=False<br>- track_running_stats is set to False, this layer then does not keep running estimates, and batch statistics are instead used during evaluation time as well.\n"
   ]
  },
  {
   "cell_type": "markdown",
   "metadata": {},
   "source": []
  },
  {
   "cell_type": "markdown",
   "metadata": {},
   "source": []
  },
  {
   "cell_type": "markdown",
   "metadata": {},
   "source": []
  },
  {
   "cell_type": "markdown",
   "metadata": {},
   "source": []
  },
  {
   "cell_type": "markdown",
   "metadata": {},
   "source": []
  }
 ],
 "metadata": {
  "kernelspec": {
   "display_name": "llm_env",
   "language": "python",
   "name": "python3"
  },
  "language_info": {
   "codemirror_mode": {
    "name": "ipython",
    "version": 3
   },
   "file_extension": ".py",
   "mimetype": "text/x-python",
   "name": "python",
   "nbconvert_exporter": "python",
   "pygments_lexer": "ipython3",
   "version": "3.9.19"
  }
 },
 "nbformat": 4,
 "nbformat_minor": 2
}
